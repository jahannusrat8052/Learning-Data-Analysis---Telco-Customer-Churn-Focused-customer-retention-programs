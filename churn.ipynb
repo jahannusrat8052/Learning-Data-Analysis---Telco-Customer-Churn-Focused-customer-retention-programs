{
  "nbformat": 4,
  "nbformat_minor": 0,
  "metadata": {
    "colab": {
      "private_outputs": true,
      "provenance": [],
      "gpuType": "T4",
      "authorship_tag": "ABX9TyNqruhPJSoEHPzGVB6celkS",
      "include_colab_link": true
    },
    "kernelspec": {
      "name": "python3",
      "display_name": "Python 3"
    },
    "language_info": {
      "name": "python"
    },
    "accelerator": "GPU"
  },
  "cells": [
    {
      "cell_type": "markdown",
      "metadata": {
        "id": "view-in-github",
        "colab_type": "text"
      },
      "source": [
        "<a href=\"https://colab.research.google.com/github/jahannusrat8052/Learning-Data-Analysis---Telco-Customer-Churn-Focused-customer-retention-programs/blob/main/churn.ipynb\" target=\"_parent\"><img src=\"https://colab.research.google.com/assets/colab-badge.svg\" alt=\"Open In Colab\"/></a>"
      ]
    },
    {
      "cell_type": "code",
      "source": [
        "import pandas as pd\n",
        "\n",
        "# Load dataset\n",
        "df = pd.read_csv(\"Telco-Customer-Churn.csv\")\n",
        "\n",
        "# Quick look\n",
        "print(df.head())\n",
        "print(df.info())\n",
        "print(df[\"Churn\"].value_counts())\n"
      ],
      "metadata": {
        "id": "MLu422C4-CNN"
      },
      "execution_count": null,
      "outputs": []
    },
    {
      "cell_type": "code",
      "source": [
        "# Handle missing values\n",
        "df = df.dropna()\n",
        "\n",
        "# Convert categorical to numeric\n",
        "df = pd.get_dummies(df, drop_first=True)\n"
      ],
      "metadata": {
        "id": "dZE68ssJ-cev"
      },
      "execution_count": null,
      "outputs": []
    },
    {
      "cell_type": "code",
      "source": [
        "from sklearn.model_selection import train_test_split\n",
        "\n",
        "X = df.drop(\"Churn_Yes\", axis=1)   # Features\n",
        "y = df[\"Churn_Yes\"]                # Target\n",
        "\n",
        "X_train, X_test, y_train, y_test = train_test_split(X, y, test_size=0.2, random_state=42)\n",
        "print()"
      ],
      "metadata": {
        "id": "pCEltldi-fxq"
      },
      "execution_count": null,
      "outputs": []
    },
    {
      "cell_type": "code",
      "metadata": {
        "id": "74f36bc5"
      },
      "source": [
        "import seaborn as sns\n",
        "import matplotlib.pyplot as plt\n",
        "\n",
        "# Reload the original dataframe to identify categorical columns before one-hot encoding\n",
        "df_original = pd.read_csv(\"Telco-Customer-Churn.csv\")\n",
        "\n",
        "# Identify categorical columns (excluding 'customerID' and numerical columns)\n",
        "categorical_cols = df_original.select_dtypes(include='object').columns.tolist()\n",
        "categorical_cols.remove('customerID')\n",
        "categorical_cols.remove('TotalCharges') # TotalCharges is numeric but read as object initially\n",
        "\n",
        "# Plot count plots for each categorical feature\n",
        "for col in categorical_cols:\n",
        "    plt.figure(figsize=(8, 5))\n",
        "    sns.countplot(data=df_original, x=col, hue='Churn')\n",
        "    plt.title(f'Distribution of {col} and Churn')\n",
        "    plt.xlabel(col)\n",
        "    plt.ylabel('Count')\n",
        "    plt.xticks(rotation=45, ha='right')\n",
        "    plt.tight_layout()\n",
        "    plt.show()"
      ],
      "execution_count": null,
      "outputs": []
    },
    {
      "cell_type": "markdown",
      "metadata": {
        "id": "60ca2308"
      },
      "source": [
        "## Visualize the distribution of numerical features\n",
        "\n",
        "### Subtask:\n",
        "Plot histograms for numerical features to understand their distributions.\n"
      ]
    },
    {
      "cell_type": "markdown",
      "metadata": {
        "id": "bb787a45"
      },
      "source": [
        "**Reasoning**:\n",
        "Plot histograms for the numerical features to visualize their distributions.\n",
        "\n"
      ]
    },
    {
      "cell_type": "code",
      "metadata": {
        "id": "9b30318f"
      },
      "source": [
        "# Identify numerical columns in the original DataFrame\n",
        "numerical_cols = df_original.select_dtypes(include=['int64', 'float64']).columns.tolist()\n",
        "\n",
        "# Add 'TotalCharges' to the numerical columns list, handling potential errors if it's not convertible yet\n",
        "try:\n",
        "    df_original['TotalCharges'] = pd.to_numeric(df_original['TotalCharges'], errors='coerce')\n",
        "    numerical_cols.append('TotalCharges')\n",
        "except ValueError:\n",
        "    print(\"Could not convert 'TotalCharges' to numeric.\")\n",
        "    pass # Skip if conversion is not possible\n",
        "\n",
        "# Plot histograms for numerical features\n",
        "for col in numerical_cols:\n",
        "    if col in df_original.columns:\n",
        "        plt.figure(figsize=(8, 5))\n",
        "        sns.histplot(data=df_original, x=col, kde=True)\n",
        "        plt.title(f'Distribution of {col}')\n",
        "        plt.xlabel(col)\n",
        "        plt.ylabel('Frequency')\n",
        "        plt.tight_layout()\n",
        "        plt.show()\n"
      ],
      "execution_count": null,
      "outputs": []
    },
    {
      "cell_type": "markdown",
      "metadata": {
        "id": "d61fc655"
      },
      "source": [
        "## Visualize the relationship between features and churn\n",
        "\n",
        "### Subtask:\n",
        "Create visualizations to explore how different features relate to customer churn.\n"
      ]
    },
    {
      "cell_type": "markdown",
      "metadata": {
        "id": "de94d30f"
      },
      "source": [
        "**Reasoning**:\n",
        "Create box plots, violin plots, a correlation heatmap, and stacked bar plots to visualize the relationship between different features and churn, as per the instructions.\n",
        "\n"
      ]
    },
    {
      "cell_type": "code",
      "metadata": {
        "id": "8621c6fa"
      },
      "source": [
        "# 1. Create box plots for numerical features vs. Churn\n",
        "numerical_features = ['tenure', 'MonthlyCharges', 'TotalCharges']\n",
        "for feature in numerical_features:\n",
        "    plt.figure(figsize=(8, 5))\n",
        "    sns.boxplot(data=df_original, x='Churn', y=feature)\n",
        "    plt.title(f'Box plot of {feature} vs. Churn')\n",
        "    plt.xlabel('Churn')\n",
        "    plt.ylabel(feature)\n",
        "    plt.show()\n",
        "\n",
        "# 2. Create violin plots for numerical features vs. Churn\n",
        "for feature in numerical_features:\n",
        "    plt.figure(figsize=(8, 5))\n",
        "    sns.violinplot(data=df_original, x='Churn', y=feature)\n",
        "    plt.title(f'Violin plot of {feature} vs. Churn')\n",
        "    plt.xlabel('Churn')\n",
        "    plt.ylabel(feature)\n",
        "    plt.show()\n",
        "\n",
        "# 3. Generate a heatmap of the correlation matrix for numerical features and Churn\n",
        "# Convert 'Churn' to numerical (0 for No, 1 for Yes) for correlation\n",
        "df_original['Churn_numeric'] = df_original['Churn'].apply(lambda x: 1 if x == 'Yes' else 0)\n",
        "correlation_matrix = df_original[numerical_features + ['Churn_numeric']].corr()\n",
        "\n",
        "plt.figure(figsize=(10, 8))\n",
        "sns.heatmap(correlation_matrix, annot=True, cmap='coolwarm', fmt=\".2f\")\n",
        "plt.title('Correlation Matrix of Numerical Features and Churn')\n",
        "plt.show()\n",
        "\n",
        "# 4. Create stacked bar plots for select categorical features vs. Churn\n",
        "categorical_features_for_stacked = ['Contract', 'InternetService', 'PaymentMethod']\n",
        "\n",
        "for feature in categorical_features_for_stacked:\n",
        "    plt.figure(figsize=(10, 6))\n",
        "    # Create a cross-tabulation of the feature and Churn\n",
        "    ct = pd.crosstab(df_original[feature], df_original['Churn'], normalize='index') * 100\n",
        "    ct.plot(kind='bar', stacked=True, colormap='viridis', ax=plt.gca())\n",
        "    plt.title(f'Churn Rate by {feature}')\n",
        "    plt.xlabel(feature)\n",
        "    plt.ylabel('Percentage')\n",
        "    plt.xticks(rotation=45, ha='right')\n",
        "    plt.legend(title='Churn')\n",
        "    plt.tight_layout()\n",
        "    plt.show()\n"
      ],
      "execution_count": null,
      "outputs": []
    },
    {
      "cell_type": "markdown",
      "metadata": {
        "id": "d3a3337d"
      },
      "source": [
        "## Summary:\n",
        "\n",
        "### Data Analysis Key Findings\n",
        "\n",
        "*   Customers with shorter tenure appear more likely to churn.\n",
        "*   Customers with higher monthly charges seem to have a higher churn rate.\n",
        "*   Customers with higher total charges tend to have a lower churn rate.\n",
        "*   Customers with month-to-month contracts have a significantly higher churn rate compared to those with one-year or two-year contracts.\n",
        "*   Customers using Fiber optic internet service have a higher churn rate than those using DSL or no internet service.\n",
        "*   Customers using Electronic check payment methods show a higher propensity to churn.\n",
        "*   There is a moderate positive correlation between 'MonthlyCharges' and 'Churn\\_numeric' (0.19).\n",
        "*   There is a moderate negative correlation between 'tenure' and 'Churn\\_numeric' (-0.35).\n",
        "*   There is a weak negative correlation between 'TotalCharges' and 'Churn\\_numeric' (-0.20).\n",
        "\n",
        "### Insights or Next Steps\n",
        "\n",
        "*   The visualizations highlight that contract type, internet service, and payment method are strong indicators of churn risk. These features should be considered important in churn prediction models.\n",
        "*   Further investigation into the relationship between numerical features and churn, perhaps through feature engineering or non-linear modeling techniques, could provide deeper insights.\n"
      ]
    },
    {
      "cell_type": "code",
      "source": [
        "from sklearn.linear_model import LogisticRegression\n",
        "from sklearn.metrics import accuracy_score, classification_report\n",
        "\n",
        "model = LogisticRegression(max_iter=1000)\n",
        "model.fit(X_train, y_train)\n",
        "\n",
        "y_pred = model.predict(X_test)\n",
        "\n",
        "print(\"Accuracy:\", accuracy_score(y_test, y_pred))\n",
        "print(classification_report(y_test, y_pred))\n"
      ],
      "metadata": {
        "id": "HoD_Vaax_kjU"
      },
      "execution_count": null,
      "outputs": []
    },
    {
      "cell_type": "code",
      "source": [
        "from sklearn.ensemble import RandomForestClassifier\n",
        "\n",
        "rf = RandomForestClassifier()\n",
        "rf.fit(X_train, y_train)\n",
        "print(\"RF Accuracy:\", rf.score(X_test, y_test))\n"
      ],
      "metadata": {
        "id": "wRi6JJa_APaW"
      },
      "execution_count": null,
      "outputs": []
    },
    {
      "cell_type": "code",
      "source": [
        "import matplotlib.pyplot as plt\n",
        "\n",
        "importances = rf.feature_importances_\n",
        "features = X.columns\n",
        "plt.barh(features, importances)\n",
        "plt.show()"
      ],
      "metadata": {
        "id": "WCvlnklKAWsy"
      },
      "execution_count": null,
      "outputs": []
    }
  ]
}